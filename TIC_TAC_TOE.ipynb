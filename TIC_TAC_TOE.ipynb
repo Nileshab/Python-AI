{
  "nbformat": 4,
  "nbformat_minor": 0,
  "metadata": {
    "colab": {
      "provenance": []
    },
    "kernelspec": {
      "name": "python3",
      "display_name": "Python 3"
    },
    "language_info": {
      "name": "python"
    }
  },
  "cells": [
    {
      "cell_type": "code",
      "execution_count": null,
      "metadata": {
        "colab": {
          "base_uri": "https://localhost:8080/"
        },
        "id": "e-NuCREhePB-",
        "outputId": "b942b1c2-30ed-4a74-cd62-0a50a6199b95"
      },
      "outputs": [
        {
          "output_type": "stream",
          "name": "stdout",
          "text": [
            "Hello World\n"
          ]
        }
      ],
      "source": [
        "print(\"Hello World\")"
      ]
    },
    {
      "cell_type": "code",
      "source": [
        "def constBoard(Board):\n",
        "  print(\"The Current State of Board : \\n\\n\") ;\n",
        "  for i in range (0,9):\n",
        "    if (i%3==0 and i>0) :\n",
        "      print(\"\\n\");\n",
        "    if(Board[i]==0):\n",
        "      print(\"_\" ,end = ' ');\n",
        "    if(Board[i]==-1):\n",
        "      print(\"X\",end = ' ');\n",
        "    if(Board[i]==1):\n",
        "      print(\"O\",end = ' ');\n",
        "\n",
        "\n",
        "def User(Board):\n",
        "    pos=int(input(\"ENTER X's POSITION FROM [1,2,3,..9]\"))\n",
        "    if (Board[pos-1]) != 0:\n",
        "      print(\"Wrong Move\");\n",
        "      exit(0);\n",
        "    else:\n",
        "      Board[pos-1]=-1\n",
        "      \n",
        "\n",
        "# \n",
        "\n",
        "def minmax(Board,player):\n",
        "  x=AnalyzeBoard(Board);\n",
        "  if (x!=0):\n",
        "    return(x*player);\n",
        "  pos=-1\n",
        "  value=-2\n",
        "  for i in range(0,9):\n",
        "    if Board[i]==0:\n",
        "      Board[i]=player;\n",
        "      score=-minmax(Board,-player);\n",
        "      Board[i]=0;\n",
        "      if score>value :\n",
        "        value=score\n",
        "        pos=i\n",
        "  if (pos==-1):\n",
        "    return 0;\n",
        "  return value\n",
        "\n",
        "\n",
        "  # \n",
        "  \n",
        "def CompTurn(Board):\n",
        "  pos=-1\n",
        "  value=-2\n",
        "  for i in range(0,9):\n",
        "    if Board[i]==0:\n",
        "      Board[i]=1;\n",
        "      score=-minmax(Board,-1);\n",
        "      Board[i]=0;\n",
        "      if score>value :\n",
        "        value=score\n",
        "        pos=i\n",
        "  Board[pos]=1\n",
        "  # \n",
        "  \n",
        "def AnalyzeBoard(Board):\n",
        "     cb=[[0,1,2],[3,4,5],[6,7,8],[0,3,6],[1,4,7],[2,5,8],[0,4,8],[2,4,6]]\n",
        "     for i in range(0,len(cb)):\n",
        "       if (Board[cb[i][0]]!=0 and\n",
        "          Board[cb[i][0]]==Board[cb[i][1]]and\n",
        "          Board[cb[i][0]]==Board[cb[i][2]]) :\n",
        "        return Board[cb[i][0]] ;\n",
        "     return 0\n",
        "    \n",
        "   \n",
        "  # \n",
        "def main():\n",
        "   Board = [0,0,0,0,0,0,0,0,0]\n",
        "   print(\"COMPUTER : O VS YOU : X \")\n",
        "\n",
        "\n",
        "   player=int(input(\"ENTER TO PLAY FIRST OR SECOND\"));\n",
        "   for i in range(0,9):\n",
        "    if (AnalyzeBoard(Board)!=0):\n",
        "      break;\n",
        "    if (i+player)%2==0:\n",
        "      CompTurn(Board);\n",
        "    else:\n",
        "      constBoard(Board);\n",
        "      User(Board);\n",
        "   x=AnalyzeBoard(Board);\n",
        "   if (x==0):\n",
        "    constBoard(Board);\n",
        "    print(\"DRAW !\");\n",
        "   if (x==-1):\n",
        "    constBoard(Board);\n",
        "    print(\"X Wins\")\n",
        "   if (x==1):\n",
        "    constBoard(Board);\n",
        "    print(\"O Wins\")\n",
        "\n",
        "\n",
        "\n",
        "  \n",
        "\n",
        "  "
      ],
      "metadata": {
        "id": "K1Opb272epn9"
      },
      "execution_count": 11,
      "outputs": []
    },
    {
      "cell_type": "code",
      "source": [
        "main()"
      ],
      "metadata": {
        "id": "HWaxDdwhepq0",
        "colab": {
          "base_uri": "https://localhost:8080/"
        },
        "outputId": "60f2012f-7a5e-41e8-8e59-2128d5ef963c"
      },
      "execution_count": 5,
      "outputs": [
        {
          "output_type": "stream",
          "name": "stdout",
          "text": [
            "COMPUTER : O VS YOU : X \n",
            "ENTER TO PLAY FIRST OR SECOND1\n",
            "The Current State of Board : \n",
            "\n",
            "\n",
            "_ _ _ \n",
            "\n",
            "_ _ _ \n",
            "\n",
            "_ _ _ ENTER X's POSITION FROM [1,2,3,..9]5\n",
            "The Current State of Board : \n",
            "\n",
            "\n",
            "O _ _ \n",
            "\n",
            "_ X _ \n",
            "\n",
            "_ _ _ ENTER X's POSITION FROM [1,2,3,..9]3\n",
            "The Current State of Board : \n",
            "\n",
            "\n",
            "O O X \n",
            "\n",
            "_ X _ \n",
            "\n",
            "_ _ _ ENTER X's POSITION FROM [1,2,3,..9]7\n",
            "The Current State of Board : \n",
            "\n",
            "\n",
            "O O X \n",
            "\n",
            "O X _ \n",
            "\n",
            "X _ _ ENTER X's POSITION FROM [1,2,3,..9]8\n",
            "The Current State of Board : \n",
            "\n",
            "\n",
            "O O X \n",
            "\n",
            "O X O \n",
            "\n",
            "X X _ ENTER X's POSITION FROM [1,2,3,..9]9\n",
            "The Current State of Board : \n",
            "\n",
            "\n",
            "O O X \n",
            "\n",
            "O X O \n",
            "\n",
            "X X X DRAW !\n"
          ]
        }
      ]
    },
    {
      "cell_type": "code",
      "source": [
        "main()"
      ],
      "metadata": {
        "id": "q3GSQX2D94yw",
        "colab": {
          "base_uri": "https://localhost:8080/"
        },
        "outputId": "549aa88b-28bb-4af8-aaa9-084c4ac4a729"
      },
      "execution_count": 12,
      "outputs": [
        {
          "output_type": "stream",
          "name": "stdout",
          "text": [
            "COMPUTER : O VS YOU : X \n",
            "ENTER TO PLAY FIRST OR SECOND2\n",
            "The Current State of Board : \n",
            "\n",
            "\n",
            "O _ _ \n",
            "\n",
            "_ _ _ \n",
            "\n",
            "_ _ _ ENTER X's POSITION FROM [1,2,3,..9]5\n",
            "The Current State of Board : \n",
            "\n",
            "\n",
            "O O _ \n",
            "\n",
            "_ X _ \n",
            "\n",
            "_ _ _ ENTER X's POSITION FROM [1,2,3,..9]3\n",
            "The Current State of Board : \n",
            "\n",
            "\n",
            "O O X \n",
            "\n",
            "_ X _ \n",
            "\n",
            "O _ _ ENTER X's POSITION FROM [1,2,3,..9]5\n",
            "Wrong Move\n",
            "The Current State of Board : \n",
            "\n",
            "\n",
            "O O X \n",
            "\n",
            "O X _ \n",
            "\n",
            "O _ _ O Wins\n"
          ]
        }
      ]
    },
    {
      "cell_type": "code",
      "source": [],
      "metadata": {
        "id": "2JCTRbDZ_v2n"
      },
      "execution_count": null,
      "outputs": []
    },
    {
      "cell_type": "code",
      "source": [],
      "metadata": {
        "id": "eWRv79uFAmF_"
      },
      "execution_count": null,
      "outputs": []
    },
    {
      "cell_type": "code",
      "source": [
        "\n",
        "   "
      ],
      "metadata": {
        "id": "hgGCwfG_HY4B"
      },
      "execution_count": null,
      "outputs": []
    }
  ]
}